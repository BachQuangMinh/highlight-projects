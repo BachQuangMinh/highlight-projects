{
 "cells": [
  {
   "cell_type": "code",
   "execution_count": 3,
   "metadata": {},
   "outputs": [],
   "source": [
    "import pickle\n",
    "import pandas as pd\n",
    "\n",
    "infile = 'data_raw.pkl'\n",
    "infile = open(infile, mode='rb')\n",
    "df = pickle.load(infile)"
   ]
  },
  {
   "cell_type": "code",
   "execution_count": 5,
   "metadata": {},
   "outputs": [
    {
     "data": {
      "text/html": [
       "<div>\n",
       "<style scoped>\n",
       "    .dataframe tbody tr th:only-of-type {\n",
       "        vertical-align: middle;\n",
       "    }\n",
       "\n",
       "    .dataframe tbody tr th {\n",
       "        vertical-align: top;\n",
       "    }\n",
       "\n",
       "    .dataframe thead th {\n",
       "        text-align: right;\n",
       "    }\n",
       "</style>\n",
       "<table border=\"1\" class=\"dataframe\">\n",
       "  <thead>\n",
       "    <tr style=\"text-align: right;\">\n",
       "      <th></th>\n",
       "      <th>text</th>\n",
       "      <th>target</th>\n",
       "    </tr>\n",
       "  </thead>\n",
       "  <tbody>\n",
       "    <tr>\n",
       "      <th>18604</th>\n",
       "      <td>-\\nbị\\nphát_hiện\\nđuổi\\nbắt\\n,\\nthấy\\nchủ\\nnhà...</td>\n",
       "      <td>0</td>\n",
       "    </tr>\n",
       "    <tr>\n",
       "      <th>18605</th>\n",
       "      <td>ngày\\n10/4\\n,\\nthông_tin\\ntừ\\nkhoa\\nngoại_lồng...</td>\n",
       "      <td>0</td>\n",
       "    </tr>\n",
       "    <tr>\n",
       "      <th>18606</th>\n",
       "      <td>theo\\ntính_toán\\ncủa\\nforbes\\n,\\ntính\\ntới\\n13...</td>\n",
       "      <td>0</td>\n",
       "    </tr>\n",
       "    <tr>\n",
       "      <th>18607</th>\n",
       "      <td>theo\\nđó\\n,\\nvào_khoảng\\ngần\\n3h\\nsáng\\nngày\\n...</td>\n",
       "      <td>0</td>\n",
       "    </tr>\n",
       "    <tr>\n",
       "      <th>18608</th>\n",
       "      <td>marina_hill\\nđã\\ncó\\nbuổi\\nra_mắt\\nthành_công\\...</td>\n",
       "      <td>0</td>\n",
       "    </tr>\n",
       "    <tr>\n",
       "      <th>18609</th>\n",
       "      <td>sau\\nkhi\\nđại_diện\\nviện\\nksnd\\ntp\\nhà_nội\\ncô...</td>\n",
       "      <td>0</td>\n",
       "    </tr>\n",
       "    <tr>\n",
       "      <th>18610</th>\n",
       "      <td>đồng_tháp\\n(\\náo\\nvàng\\n)\\nđang\\nrơi\\ntự_do\\nt...</td>\n",
       "      <td>0</td>\n",
       "    </tr>\n",
       "    <tr>\n",
       "      <th>18611</th>\n",
       "      <td>tình_huống\\ndiễn\\nra\\ntrong\\ntrận\\nđấu\\ntại\\ng...</td>\n",
       "      <td>0</td>\n",
       "    </tr>\n",
       "    <tr>\n",
       "      <th>18612</th>\n",
       "      <td>sáng\\nnay\\n(\\n22/3\\n)\\n,\\nphòng\\nthương_mại\\nv...</td>\n",
       "      <td>0</td>\n",
       "    </tr>\n",
       "    <tr>\n",
       "      <th>18613</th>\n",
       "      <td>các\\nnhà_nghiên_cứu\\nđã\\nđánh_giá\\ngần\\n1.500\\...</td>\n",
       "      <td>0</td>\n",
       "    </tr>\n",
       "  </tbody>\n",
       "</table>\n",
       "</div>"
      ],
      "text/plain": [
       "                                                    text  target\n",
       "18604  -\\nbị\\nphát_hiện\\nđuổi\\nbắt\\n,\\nthấy\\nchủ\\nnhà...       0\n",
       "18605  ngày\\n10/4\\n,\\nthông_tin\\ntừ\\nkhoa\\nngoại_lồng...       0\n",
       "18606  theo\\ntính_toán\\ncủa\\nforbes\\n,\\ntính\\ntới\\n13...       0\n",
       "18607  theo\\nđó\\n,\\nvào_khoảng\\ngần\\n3h\\nsáng\\nngày\\n...       0\n",
       "18608  marina_hill\\nđã\\ncó\\nbuổi\\nra_mắt\\nthành_công\\...       0\n",
       "18609  sau\\nkhi\\nđại_diện\\nviện\\nksnd\\ntp\\nhà_nội\\ncô...       0\n",
       "18610  đồng_tháp\\n(\\náo\\nvàng\\n)\\nđang\\nrơi\\ntự_do\\nt...       0\n",
       "18611  tình_huống\\ndiễn\\nra\\ntrong\\ntrận\\nđấu\\ntại\\ng...       0\n",
       "18612  sáng\\nnay\\n(\\n22/3\\n)\\n,\\nphòng\\nthương_mại\\nv...       0\n",
       "18613  các\\nnhà_nghiên_cứu\\nđã\\nđánh_giá\\ngần\\n1.500\\...       0"
      ]
     },
     "execution_count": 5,
     "metadata": {},
     "output_type": "execute_result"
    }
   ],
   "source": [
    "df.tail(10)"
   ]
  },
  {
   "cell_type": "code",
   "execution_count": 6,
   "metadata": {},
   "outputs": [],
   "source": [
    "from string import digits\n",
    "\n",
    "def remove_digits(text):\n",
    "    remove = str.maketrans('', '', digits)\n",
    "    result_text = text.translate(remove)\n",
    "    \n",
    "    return result_text"
   ]
  },
  {
   "cell_type": "code",
   "execution_count": 7,
   "metadata": {},
   "outputs": [],
   "source": [
    "filename = 'vietnamese-stopwords-dash.txt'\n",
    "stopwords = list('!@#$%^&*()_+-=<>?,./:\\'''“”\";abcdefghijklmnopqrstuvwxyz')\n",
    "stopwords = (open(filename)).read().split('\\n') + stopwords"
   ]
  },
  {
   "cell_type": "code",
   "execution_count": 14,
   "metadata": {},
   "outputs": [],
   "source": [
    "docs = df.text"
   ]
  },
  {
   "cell_type": "code",
   "execution_count": 15,
   "metadata": {},
   "outputs": [
    {
     "data": {
      "text/plain": [
       "'mỗi\\nlần\\napple\\nra_mắt\\nsản_phẩm\\nmới\\n,\\nthị_trường\\nchợ_đen\\nlại\\ntrở_nên\\nnhộn_nhịp\\nvới\\nđa_dạng\\nmẫu_mã\\nvà\\nnguồn_gốc\\n,\\ntrong\\nđó\\nnhu_cầu\\nvề\\niphone\\nphi_pháp\\nlà\\nvô_cùng\\nlớn\\n.\\ntheo\\nbáo_cáo\\nmới_đây\\ntừ\\nhãng\\nphần_mềm\\nbảo_mật\\ntrendmicro\\n,\\nhoạt_động\\nmở\\nkhoá\\nvà\\nbán\\nlại\\niphone\\nphi_pháp\\nđang\\nmang\\nlại\\nkhối\\nlợi_nhuận\\nkhổng_lồ\\nlên\\nđến\\nhàng\\ntriệu\\nusd\\ncho\\nnhững\\ntay\\nbuôn\\n.\\ntừ\\nnhiều\\nnăm\\nvề\\ntrước\\n,\\nthành_phố\\nnew_york\\nđã\\nphải\\nđối_mặt\\nvới\\nvấn_nạn\\ntrộm_cướp\\niphone\\nhoành_hành\\n.\\ncựu\\nthị_trưởng\\nmichael_bloomberg\\ntừng\\nlên_tiếng\\nchỉ_trích\\napple\\nvì\\nsản_xuất\\ntai\\nnghe\\nmàu\\ntrắng\\n-\\nđặc_điểm\\nnhận_dạng\\nđể\\nnhững\\nkẻ\\n“\\nhành_nghề\\n”\\nnhắm\\nđến\\ncác\\nđối_tượng\\nsử_dụng\\niphone\\n.\\ntình_hình\\ntrở_nên\\nkhả_quan\\nhơn\\nkhi\\napple\\ncông_bố\\ntính_năng\\nmới\\n-\\nicloud\\nvà\\nfind_my\\niphone\\n(\\nfmi\\n)\\n,\\nứng_dụng\\ngiúp\\nngười\\ndùng\\ntìm\\nđiện_thoại\\nđã\\nmất\\nhoặc\\nít_nhất\\ncũng\\nbảo_vệ\\nđược\\ndữ_liệu\\ncá_nhân\\nvà\\nkhông\\ncho\\nkẻ\\nxấu\\nđạt\\nđược\\nmục_đích\\ncủa\\nchúng\\n.\\nbất_ngờ\\nthay\\n,\\nnhững\\ntên\\ntội_phạm\\ncông_nghệ_cao\\nlại\\nđang\\nlợi_dụng\\nchính\\nngười\\ndùng\\nvà\\nứng_dụng\\nnày\\nđể\\nchiếm_đoạt\\nnhững\\nthiết_bị\\ntrộm\\nđược\\nmãi_mãi\\n.\\ncụ_thể\\n,\\nnạn_nhân\\nsẽ\\nnhận\\nđược\\nmột\\nemail\\n/\\ntin\\nnhắn\\ngiả\\n(\\nđược\\nnguỵ_trang\\ncẩn_thận\\n)\\nthông_báo\\nđã\\nxác_định\\nđược\\nvị_trí\\nchiếc\\niphone\\nbị\\nmất\\n.\\ntâm_lý\\n“\\ntiếc\\ncủa\\n”\\ncùng\\nkhao_khát\\ntìm\\nlại\\nđiện_thoại\\ncủa\\nngười\\ndùng\\nlúc\\nnày\\nsẽ\\nkhiến\\nhọ\\nngay_lập_tức\\nrơi\\nvào\\nbẫy\\ncủa\\nchúng\\n.\\ntại\\nđây\\n,\\nkẻ_gian\\nyêu_cầu\\nnạn_nhân\\nnhập\\ncác\\nthông_tin\\ncá_nhân\\nliên_quan\\nđến\\ntài_khoản\\nicloud\\nđể\\nnhận\\nlại\\nthiết_bị\\nđã\\nmất\\n.\\nkhi\\n“\\nkhổ_chủ\\n”\\nhoàn_tất\\nviệc\\nnhập\\nthông_tin\\nđăng_nhập\\ntrên\\ntrang\\ngiả_mạo\\n,\\nphần_mềm\\nmô_phỏng\\nfmi\\nsẽ\\nđược\\nhacker\\nsử_dụng\\nđể\\nlấy\\nthông_tin\\nicloud\\ncủa\\nngười\\ndùng\\nnhư\\nsố\\nđiện_thoại\\n,\\nđộ\\ndài\\nmật_khẩu\\n,\\nvị_trí\\ngps\\n...\\nthậm_chí\\nphần_mềm\\nnày\\ncòn\\ncó_thể\\nxoá\\nthiết_bị\\nkhỏi\\ntài_khoản\\napple\\ncủa\\nnạn_nhân\\nvà\\ngửi\\nthông_báo\\ncho\\nbọn\\ntrộm\\nsau\\nkhi\\nmở\\nkhoá\\nthành_công\\n.\\nmột_số\\ncông_cụ\\nhành_nghề\\nmà\\ncác\\nhacker\\ntin_dùng\\ncó_thể\\nkể\\nđến\\ngồm\\n:\\nmagicapp\\nvà\\napplekit\\n.\\ncả\\nhai\\nđều\\nđược\\nthiết_kế\\nvới\\nmục_đích\\ntự_động_hoá\\ntối_đa\\nquá_trình\\nmở\\nkhoá\\n.\\nđơn_cử\\n,\\nmagicapp\\ncó\\nkhả_năng\\ngửi\\nthông_báo\\nvị_trí\\ngps\\ngiả_mạo\\nđể\\nlừa_dối\\nnạn_nhân\\n,\\nkhiến\\nhọ\\ntin\\nrằng\\nchiếc\\niphone\\nmới\\nmất\\nđã\\nđược\\ntìm\\nthấy\\n.\\nứng_dụng\\nnày\\ncòn\\ncung_cấp\\nhơn\\n50\\nmẫu\\ntuỳ\\nchỉnh\\nđể\\nkẻ\\nxấu\\nlựa_chọn\\nkhi\\nmuốn\\ngửi\\nemail\\ngiả\\ncho\\nngười\\ndùng\\n.\\nđại_diện\\ntrendmicro\\nnhận_định\\n:\\n“\\nphần_lớn\\ncác\\nvụ\\nphạm_tội\\ncó\\nnguồn_gốc\\ntừ\\nkosovo\\n,\\nphilippines\\n,\\nấn_độ\\n,\\nvà\\nmột_số\\nquốc_gia\\nkhác\\nở\\nbắc_phi\\n.\\nba\\ncái\\ntên\\nđáng\\nchú_ý\\nnhất\\nlà\\n:\\nmustapha\\n_\\nos\\n,\\nengine\\n_\\napp\\n,\\nvà\\ni\\n_\\nphisher\\n.\\nchúng\\nthường\\nlàm_việc\\n,\\nnghiên_cứu\\nvà\\ncung_cấp\\nra\\nthị_trường\\ncác\\nsản\\nphầm\\ncùng\\nnhau\\n.\\nmustapha\\n_\\nos\\nlà\\nnhà_phát_triển\\ncủa\\napplekit\\n,\\nengine\\n_\\napp\\nkhai_sinh\\nra\\nmagicapp\\n,\\ntrong\\nkhi\\ni\\n_\\nphisher\\ncung_cấp\\ncác\\nlệnh\\nlừa_đảo\\nđồng_thời\\nbán\\ncác\\ndịch_vụ\\nmáy_chủ\\ncho\\ntin\\nnhắn\\nsms\\n.\\nkhách_hàng\\nsử_dụng\\nmagicapp\\nhoặc\\napplekit\\nkhông\\nbắt_buộc\\nphải\\nsử_dụng\\ncác\\ntập\\nlệnh\\nlừa_đảo\\ncủa\\ni\\n_\\nphisher\\n,\\nnhưng\\nvì\\nchúng\\ncó\\ntỷ_lệ\\nthành_công\\ncao\\nkhi\\nkết_hợp\\nvới\\nnhau\\nnên\\nnhiều\\nngười\\nthường\\nchọn\\nsử_dụng\\ncả\\nba\\n.\\nnhững\\ncông_cụ\\nnày\\nđều\\ncó_thể\\ntìm\\nthấy\\ndễ_dàng\\ntrên\\ncác\\ndiễn_đàn\\n,\\ntiêu_biểu\\nlà\\ngithub\\n(\\nmiễn_phí\\n)\\n”\\n.\\nmột_số\\nmẹo\\nhữu_ích\\nđược\\ntrendmicro\\nkhuyến_cáo\\ntới\\nngười\\ndùng\\nđể\\nhạn_chế\\nsự\\nbành_trướng\\ncủa\\nchợ_đen\\niphone\\ngồm\\n:\\n-\\nkích_hoạt\\nchế_độ\\nxác_thực\\nhai\\nlớp\\ntrên_tài\\nkhoản\\nicloud\\n,\\nvà\\nthiết_lập\\nhoặc\\nkích_hoạt\\ntính_năng\\nbảo_mật\\ncủa\\nthiết_bị\\nnhư\\nfmi\\n,\\nauto-lock\\n;\\n-\\nthường_xuyên\\nsao\\nlưu\\ndữ_liệu\\nđể\\nhạn_chế\\ncác\\nmất_mát\\ncó_thể\\nxảy\\nra\\n;\\n-\\nngay_lập_tức\\nthông_báo\\ntới\\ncác\\nnhà_cung_cấp\\ndịch_vụ\\nthứ\\nba\\n(\\nngân_hàng\\n,\\nbảo_hiểm\\n…\\n)\\nđể\\nngăn\\nkẻ_gian\\nlợi_dụng\\n;\\n-\\nnâng\\ncao\\ncảnh_giác\\nvới\\ncác\\ndấu_hiệu\\nlừa_đảo\\n,\\nđặc_biệt\\nlà\\nnhững\\nyêu_cầu\\nliên_quan\\nđến\\nthông_tin\\nxác_thực\\nicloud\\nvà\\napple\\nid\\n;\\n-\\nthực_thi\\nchính_sách\\nbảo_mật\\nmạnh_mẽ\\ntại\\nnơi\\nlàm_việc\\n,\\nđặc_biệt\\nnếu\\nthiết_bị\\nđược\\nsử_dụng\\nđể\\nlưu_trữ\\nvà\\nquản_lý\\ndữ_liệu\\nnhạy_cảm\\n;\\n-\\ntruy_cập\\nstolenphonechecker.org\\n–\\ntrang_web\\nđược\\nbảo_trợ\\nbởi\\nhiệp_hội\\ncông_nghiệp\\nviễn_thông\\ncellular\\n(\\nctia\\n)\\ngiúp\\nngười\\ndùng\\nkiểm_tra\\nimei\\ncủa\\nthiết_bị\\nmình\\nmua\\ncó\\nphải\\nhàng\\nphi_pháp\\nhay\\nkhông\\n.\\nthế_giới\\ncàng\\nphát_triển\\n,\\ncon_người\\ncàng\\nchứng_kiến\\nđược\\nsự\\nghê_gớm\\nmột_khi\\ntội_phạm\\ntruyền_thống\\nvà\\ntội_phạm\\nmạng\\nphối_kết_hợp\\nvới\\nnhau\\n,\\nthậm_chí\\ntăng_cường\\nsức_mạnh\\ncho\\nnhau\\n.\\nsuy\\ncho\\ncùng\\n,\\nnhững\\nbiện_pháp\\ntrên\\nsẽ\\nkhông\\ncần_thiết\\nnếu\\nngười\\ndùng\\ntự_ý\\nthức\\nnói\\nkhông\\nvới\\ncác\\nthiết_bị\\nkhông\\ntrôi_nổi\\n,\\nkhông\\nrõ\\nnguồn_gốc\\nxuất_xứ\\ntrên\\nthị_trường\\nchợ_đen\\n.\\ntheo\\nzing\\n'"
      ]
     },
     "execution_count": 15,
     "metadata": {},
     "output_type": "execute_result"
    }
   ],
   "source": [
    "docs[0]"
   ]
  },
  {
   "cell_type": "code",
   "execution_count": 19,
   "metadata": {},
   "outputs": [],
   "source": [
    "import re\n",
    "\n",
    "def preprocess_tokenized_text(tokenized_text):\n",
    "    text = remove_digits(tokenized_text)\n",
    "\n",
    "    tokens = text.split('\\n')\n",
    "    tokens_new = list()\n",
    "\n",
    "    for token in tokens:\n",
    "        token_temp = re.sub('^[\\_\\–\\-]+', '',token)\n",
    "        token_temp = re.sub('^[a-z]\\_', '', token_temp)\n",
    "        token_temp = re.sub('[\\\\u200b]+', '', token_temp)\n",
    "        token_temp = re.sub('[\\\\u2008]+', '', token_temp)\n",
    "        # token_temp = re.sub('\\\\\\+', '', token_temp)\n",
    "        token_temp = re.sub('[\\[\\]\\{\\}\\`\\~\\|\\'\\!\\@\\#\\$\\%\\^\\&\\*\\(\\)\\+\\=\\<\\>\\?\\,\\.\\/\\:\\\\\\\\“\\”\\;\\\"]+', '', token_temp)\n",
    "        # token_temp = ' '.join(token_temp).split()\n",
    "        if token_temp not in stopwords and len(token_temp) !=0:\n",
    "            tokens_new += [token_temp]\n",
    "        \n",
    "    return tokens_new"
   ]
  },
  {
   "cell_type": "code",
   "execution_count": 20,
   "metadata": {},
   "outputs": [
    {
     "name": "stdout",
     "output_type": "stream",
     "text": [
      "===== 235.27736020088196 =====\n"
     ]
    }
   ],
   "source": [
    "from time import time\n",
    "start_time = time()\n",
    "\n",
    "tokens_list = list()\n",
    "for text in docs:\n",
    "    tokens_list += [preprocess_tokenized_text(text)]\n",
    "\n",
    "print('===== {} ====='.format(time() - start_time))"
   ]
  },
  {
   "cell_type": "code",
   "execution_count": 25,
   "metadata": {},
   "outputs": [],
   "source": [
    "from time import time\n",
    "start_time = time()\n",
    "\n",
    "df['tokens'] = tokens_list\n",
    "\n",
    "import pickle\n",
    "\n",
    "outfile = 'tokenized_data_svm_b.pkl'\n",
    "outfile = open(outfile, 'wb')\n",
    "\n",
    "pickle.dump(df, outfile)\n",
    "outfile.close()\n",
    "\n",
    "print('===== {} ====='.format(time() - start_time))"
   ]
  },
  {
   "cell_type": "code",
   "execution_count": 30,
   "metadata": {},
   "outputs": [
    {
     "data": {
      "text/html": [
       "<div>\n",
       "<style scoped>\n",
       "    .dataframe tbody tr th:only-of-type {\n",
       "        vertical-align: middle;\n",
       "    }\n",
       "\n",
       "    .dataframe tbody tr th {\n",
       "        vertical-align: top;\n",
       "    }\n",
       "\n",
       "    .dataframe thead th {\n",
       "        text-align: right;\n",
       "    }\n",
       "</style>\n",
       "<table border=\"1\" class=\"dataframe\">\n",
       "  <thead>\n",
       "    <tr style=\"text-align: right;\">\n",
       "      <th></th>\n",
       "      <th>text</th>\n",
       "      <th>target</th>\n",
       "      <th>tokens</th>\n",
       "    </tr>\n",
       "  </thead>\n",
       "  <tbody>\n",
       "    <tr>\n",
       "      <th>0</th>\n",
       "      <td>mỗi\\nlần\\napple\\nra_mắt\\nsản_phẩm\\nmới\\n,\\nthị...</td>\n",
       "      <td>1</td>\n",
       "      <td>[apple, ra_mắt, sản_phẩm, thị_trường, chợ_đen,...</td>\n",
       "    </tr>\n",
       "    <tr>\n",
       "      <th>1</th>\n",
       "      <td>thông_tin\\ngây\\nchoáng_váng\\ndư_luận\\nsau\\nkhi...</td>\n",
       "      <td>1</td>\n",
       "      <td>[thông_tin, choáng_váng, dư_luận, ceo, mark_zu...</td>\n",
       "    </tr>\n",
       "    <tr>\n",
       "      <th>2</th>\n",
       "      <td>bức\\nthư\\nxin\\nviệc\\ncòn\\nlưu\\nlại\\nbút_tích\\n...</td>\n",
       "      <td>1</td>\n",
       "      <td>[thư, lưu, bút_tích, huyền_thoại, công_nghệ, s...</td>\n",
       "    </tr>\n",
       "    <tr>\n",
       "      <th>3</th>\n",
       "      <td>phản_ánh\\ncủa\\nmột_vài\\nngười\\ndùng\\ntrên\\ntra...</td>\n",
       "      <td>1</td>\n",
       "      <td>[phản_ánh, trang, công_nghệ, iphone, plus, cuộ...</td>\n",
       "    </tr>\n",
       "    <tr>\n",
       "      <th>4</th>\n",
       "      <td>chưa\\nđầy\\n2\\ntháng\\nsau\\nkhi\\ntrình_làng\\nchi...</td>\n",
       "      <td>1</td>\n",
       "      <td>[trình_làng, smartphone, cao_cấp, xperia, xz, ...</td>\n",
       "    </tr>\n",
       "  </tbody>\n",
       "</table>\n",
       "</div>"
      ],
      "text/plain": [
       "                                                text  target  \\\n",
       "0  mỗi\\nlần\\napple\\nra_mắt\\nsản_phẩm\\nmới\\n,\\nthị...       1   \n",
       "1  thông_tin\\ngây\\nchoáng_váng\\ndư_luận\\nsau\\nkhi...       1   \n",
       "2  bức\\nthư\\nxin\\nviệc\\ncòn\\nlưu\\nlại\\nbút_tích\\n...       1   \n",
       "3  phản_ánh\\ncủa\\nmột_vài\\nngười\\ndùng\\ntrên\\ntra...       1   \n",
       "4  chưa\\nđầy\\n2\\ntháng\\nsau\\nkhi\\ntrình_làng\\nchi...       1   \n",
       "\n",
       "                                              tokens  \n",
       "0  [apple, ra_mắt, sản_phẩm, thị_trường, chợ_đen,...  \n",
       "1  [thông_tin, choáng_váng, dư_luận, ceo, mark_zu...  \n",
       "2  [thư, lưu, bút_tích, huyền_thoại, công_nghệ, s...  \n",
       "3  [phản_ánh, trang, công_nghệ, iphone, plus, cuộ...  \n",
       "4  [trình_làng, smartphone, cao_cấp, xperia, xz, ...  "
      ]
     },
     "execution_count": 30,
     "metadata": {},
     "output_type": "execute_result"
    }
   ],
   "source": [
    "df.head(5)"
   ]
  },
  {
   "cell_type": "code",
   "execution_count": 28,
   "metadata": {},
   "outputs": [],
   "source": [
    "# Data Split\n",
    "from sklearn.model_selection import train_test_split\n",
    "import numpy as np\n",
    "\n",
    "y = np.array(df.target)\n",
    "X = np.array(df.loc[:, ['text','tokens']])\n",
    "\n",
    "# split\n",
    "X_train, X_test, y_train, y_test = train_test_split(X, y, test_size=0.2, random_state=11)"
   ]
  },
  {
   "cell_type": "code",
   "execution_count": 32,
   "metadata": {},
   "outputs": [],
   "source": [
    "# Export to data_train.pkl\n",
    "df_train = pd.DataFrame(columns=['target', 'text', 'tokens'])\n",
    "df_train.target = y_train\n",
    "df_train.text = X_train[:,0]\n",
    "df_train.tokens = X_train[:,1]\n",
    "\n",
    "df_train.head(5)\n",
    "\n",
    "filename = 'data_train_new.pkl'\n",
    "outfile = open(filename, 'wb')\n",
    "\n",
    "pickle.dump(df_train, outfile)\n",
    "outfile.close()"
   ]
  },
  {
   "cell_type": "code",
   "execution_count": 34,
   "metadata": {},
   "outputs": [],
   "source": [
    "# Export to data_test.pkl\n",
    "df_test = pd.DataFrame(columns=['target', 'text', 'tokens'])\n",
    "df_test.target = y_test\n",
    "df_test.text = X_test[:,0]\n",
    "df_test.tokens = X_test[:,1]\n",
    "\n",
    "filename = 'data_test_new.pkl'\n",
    "outfile = open(filename, 'wb')\n",
    "\n",
    "pickle.dump(df_test, outfile)\n",
    "outfile.close()"
   ]
  },
  {
   "cell_type": "code",
   "execution_count": 40,
   "metadata": {},
   "outputs": [
    {
     "data": {
      "text/html": [
       "<div>\n",
       "<style scoped>\n",
       "    .dataframe tbody tr th:only-of-type {\n",
       "        vertical-align: middle;\n",
       "    }\n",
       "\n",
       "    .dataframe tbody tr th {\n",
       "        vertical-align: top;\n",
       "    }\n",
       "\n",
       "    .dataframe thead th {\n",
       "        text-align: right;\n",
       "    }\n",
       "</style>\n",
       "<table border=\"1\" class=\"dataframe\">\n",
       "  <thead>\n",
       "    <tr style=\"text-align: right;\">\n",
       "      <th></th>\n",
       "      <th>target</th>\n",
       "      <th>text</th>\n",
       "      <th>tokens</th>\n",
       "    </tr>\n",
       "  </thead>\n",
       "  <tbody>\n",
       "    <tr>\n",
       "      <th>3718</th>\n",
       "      <td>1</td>\n",
       "      <td>theo\\ngizmochina\\n,\\niphone\\nse\\n2\\nsẽ\\ncó\\nth...</td>\n",
       "      <td>[gizmochina, iphone, se, thiết_kế, phiên_bản, ...</td>\n",
       "    </tr>\n",
       "    <tr>\n",
       "      <th>3719</th>\n",
       "      <td>1</td>\n",
       "      <td>theo\\ntechinsider\\n,\\napple\\nđang\\nsử_dụng\\nmộ...</td>\n",
       "      <td>[techinsider, apple, văn_phòng, israel, nghiên...</td>\n",
       "    </tr>\n",
       "    <tr>\n",
       "      <th>3720</th>\n",
       "      <td>0</td>\n",
       "      <td>mounir_el_kajoui\\n(\\nnumancia\\n)\\n,\\nyassine_b...</td>\n",
       "      <td>[mounir_el_kajoui, numancia, yassine_bounou, g...</td>\n",
       "    </tr>\n",
       "    <tr>\n",
       "      <th>3721</th>\n",
       "      <td>1</td>\n",
       "      <td>tổng_đài\\nđược\\nví_như\\nsợi\\ndây\\nliên_kết\\ntr...</td>\n",
       "      <td>[tổng_đài, ví_như, sợi, dây, liên_kết, doanh_n...</td>\n",
       "    </tr>\n",
       "    <tr>\n",
       "      <th>3722</th>\n",
       "      <td>0</td>\n",
       "      <td>chính_phủ\\ncần\\nhướng\\ntới\\nviệc\\nchủ_động\\nsá...</td>\n",
       "      <td>[chính_phủ, hướng, chủ_động, sáng_tạo, nhà_máy...</td>\n",
       "    </tr>\n",
       "  </tbody>\n",
       "</table>\n",
       "</div>"
      ],
      "text/plain": [
       "      target                                               text  \\\n",
       "3718       1  theo\\ngizmochina\\n,\\niphone\\nse\\n2\\nsẽ\\ncó\\nth...   \n",
       "3719       1  theo\\ntechinsider\\n,\\napple\\nđang\\nsử_dụng\\nmộ...   \n",
       "3720       0  mounir_el_kajoui\\n(\\nnumancia\\n)\\n,\\nyassine_b...   \n",
       "3721       1  tổng_đài\\nđược\\nví_như\\nsợi\\ndây\\nliên_kết\\ntr...   \n",
       "3722       0  chính_phủ\\ncần\\nhướng\\ntới\\nviệc\\nchủ_động\\nsá...   \n",
       "\n",
       "                                                 tokens  \n",
       "3718  [gizmochina, iphone, se, thiết_kế, phiên_bản, ...  \n",
       "3719  [techinsider, apple, văn_phòng, israel, nghiên...  \n",
       "3720  [mounir_el_kajoui, numancia, yassine_bounou, g...  \n",
       "3721  [tổng_đài, ví_như, sợi, dây, liên_kết, doanh_n...  \n",
       "3722  [chính_phủ, hướng, chủ_động, sáng_tạo, nhà_máy...  "
      ]
     },
     "execution_count": 40,
     "metadata": {},
     "output_type": "execute_result"
    }
   ],
   "source": [
    "infile = 'data_test_new.pkl'\n",
    "infile = open(infile, 'rb')\n",
    "df_new = pickle.load(infile)\n",
    "df_new.tail(5)"
   ]
  }
 ],
 "metadata": {
  "kernelspec": {
   "display_name": "Python 3",
   "language": "python",
   "name": "python3"
  },
  "language_info": {
   "codemirror_mode": {
    "name": "ipython",
    "version": 3
   },
   "file_extension": ".py",
   "mimetype": "text/x-python",
   "name": "python",
   "nbconvert_exporter": "python",
   "pygments_lexer": "ipython3",
   "version": "3.6.7"
  }
 },
 "nbformat": 4,
 "nbformat_minor": 2
}
